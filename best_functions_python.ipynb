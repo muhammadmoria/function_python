{
 "cells": [
  {
   "cell_type": "markdown",
   "id": "66235436",
   "metadata": {},
   "source": [
    "# 2. Write a Python program to create a class called 'Rectangle' with properties for width and height. Include two methods to calculate rectangle area and perimeter. Create an instance of the 'Rectangle' class and calculate its area and perimeter."
   ]
  },
  {
   "cell_type": "code",
   "execution_count": 1,
   "id": "2b2f633d",
   "metadata": {},
   "outputs": [],
   "source": [
    "class Rectangle():\n",
    "    def __init__(self,width , height):\n",
    "        self.width =width\n",
    "        self.height = height\n",
    "        \n",
    "    def calc_area(self):\n",
    "        return self.width*self.height\n",
    "    \n",
    "    def calc_perimeter(self):\n",
    "        return 2*(self.width + self.height)"
   ]
  },
  {
   "cell_type": "code",
   "execution_count": 2,
   "id": "b773348e",
   "metadata": {},
   "outputs": [],
   "source": [
    "r1 =Rectangle(2,4)"
   ]
  },
  {
   "cell_type": "code",
   "execution_count": 3,
   "id": "d1c79e2e",
   "metadata": {},
   "outputs": [
    {
     "data": {
      "text/plain": [
       "8"
      ]
     },
     "execution_count": 3,
     "metadata": {},
     "output_type": "execute_result"
    }
   ],
   "source": [
    "r1.calc_area()"
   ]
  },
  {
   "cell_type": "code",
   "execution_count": 4,
   "id": "237aaeb6",
   "metadata": {},
   "outputs": [
    {
     "data": {
      "text/plain": [
       "12"
      ]
     },
     "execution_count": 4,
     "metadata": {},
     "output_type": "execute_result"
    }
   ],
   "source": [
    "r1.calc_perimeter()"
   ]
  },
  {
   "cell_type": "markdown",
   "id": "9ca2dde6",
   "metadata": {},
   "source": [
    "# 4. Write a Python program that creates a class called \"BankAccount\" with properties for account number and balance. Include methods to deposit and withdraw money from the account. Create some instances of the \"BankAccount\" class, deposit some money, and withdraw a portion of it."
   ]
  },
  {
   "cell_type": "code",
   "execution_count": 5,
   "id": "e9d623e0",
   "metadata": {},
   "outputs": [],
   "source": [
    "class BankAccount():\n",
    "    def __init__(self,ac_number, balance):\n",
    "        self.ac_number = ac_number\n",
    "        self.balance = balance\n",
    "        \n",
    "    def deposit(self,amt):\n",
    "        \n",
    "        self.balance += amt\n",
    "        print(f'Rs. {amt} has been credited in your account.')\n",
    "        \n",
    "    def withdraw(self,amt):\n",
    "        \n",
    "        if amt > self.balance:\n",
    "            print('Sorry! Insufficient Balance.')\n",
    "        else:\n",
    "            self.balance -= amt\n",
    "            print(f'Here is your cash of Rs. {amt}')\n",
    "            "
   ]
  },
  {
   "cell_type": "code",
   "execution_count": 6,
   "id": "580d6345",
   "metadata": {},
   "outputs": [],
   "source": [
    "ac1=BankAccount(1234,25000)"
   ]
  },
  {
   "cell_type": "code",
   "execution_count": 7,
   "id": "4cc54b2c",
   "metadata": {},
   "outputs": [
    {
     "name": "stdout",
     "output_type": "stream",
     "text": [
      "Rs. 2300 has been credited in your account.\n"
     ]
    }
   ],
   "source": [
    "ac1.deposit(2300)"
   ]
  },
  {
   "cell_type": "code",
   "execution_count": 8,
   "id": "498d39ba",
   "metadata": {},
   "outputs": [
    {
     "name": "stdout",
     "output_type": "stream",
     "text": [
      "Here is your cash of Rs. 2300\n"
     ]
    }
   ],
   "source": [
    "ac1.withdraw(2300)"
   ]
  },
  {
   "cell_type": "markdown",
   "id": "490084b4",
   "metadata": {},
   "source": [
    "# A Python program that creates a class called Bank with properties for bank names and branches. Include methods to add a branch, remove a branch, and display all branches. Create an instance of the Bank class and perform operations to add and remove branches."
   ]
  },
  {
   "cell_type": "code",
   "execution_count": 9,
   "id": "8f485ed5",
   "metadata": {},
   "outputs": [],
   "source": [
    "class Bank():\n",
    "    def __init__(self, name, *branches):\n",
    "        self.name = name\n",
    "        self.branches = list(branches)\n",
    "    def add_branch(self,branch_name):\n",
    "        if branch_name not in self.branches:\n",
    "            self.branches.append(branch_name)\n",
    "        else:\n",
    "            print(\"Branch Already Exist\")\n",
    "    \n",
    "    \n",
    "    def remove_branch(self,branch_name):\n",
    "        if branch_name in self.branches:\n",
    "            self.branches.remove(branch_name)\n",
    "        else:\n",
    "            print(\"Branch doesnt Exist\") \n",
    "    def show_branches(self):\n",
    "        for branch in self.branches:\n",
    "            print(branch)\n",
    "        \n",
    "b1 = Bank('MyBank', \"Main Branch\")\n",
    "b2 = Bank(\"MyBank\", \"Shahrahe Faisal Branch\")\n"
   ]
  },
  {
   "cell_type": "code",
   "execution_count": 10,
   "id": "be0bb3d9",
   "metadata": {},
   "outputs": [
    {
     "name": "stdout",
     "output_type": "stream",
     "text": [
      "Main Branch\n"
     ]
    }
   ],
   "source": [
    "b1.show_branches()"
   ]
  },
  {
   "cell_type": "code",
   "execution_count": 11,
   "id": "ecb254b5",
   "metadata": {},
   "outputs": [
    {
     "name": "stdout",
     "output_type": "stream",
     "text": [
      "Shahrahe Faisal Branch\n"
     ]
    }
   ],
   "source": [
    "b2.show_branches()"
   ]
  },
  {
   "cell_type": "code",
   "execution_count": 12,
   "id": "bca94d41",
   "metadata": {},
   "outputs": [
    {
     "name": "stdout",
     "output_type": "stream",
     "text": [
      "Branch Already Exist\n"
     ]
    }
   ],
   "source": [
    "b1.add_branch('Main Branch')"
   ]
  },
  {
   "cell_type": "code",
   "execution_count": 13,
   "id": "ef04a7b2",
   "metadata": {},
   "outputs": [],
   "source": [
    "b1.add_branch(\"Tariq Road Branch\")"
   ]
  },
  {
   "cell_type": "code",
   "execution_count": 14,
   "id": "f15e8120",
   "metadata": {},
   "outputs": [
    {
     "name": "stdout",
     "output_type": "stream",
     "text": [
      "Main Branch\n",
      "Tariq Road Branch\n"
     ]
    }
   ],
   "source": [
    "b1.show_branches()"
   ]
  },
  {
   "cell_type": "markdown",
   "id": "c9e4d087",
   "metadata": {},
   "source": [
    "#### 11. Write a Python program that creates a class called BankAccount with properties for account number, account holder name, and balance. Include methods to deposit, withdraw, and transfer money between accounts. Create multiple instances of the BankAccount class and perform operations such as depositing, withdrawing, and transferring money."
   ]
  },
  {
   "cell_type": "code",
   "execution_count": 15,
   "id": "49f750ef",
   "metadata": {},
   "outputs": [],
   "source": [
    "class BankAccount():\n",
    "    # class variable\n",
    "    lst_accounts = []   \n",
    "    \n",
    "    def __init__(self,account_number, account_holder_name,balance):\n",
    "        \n",
    "        # insatance variables\n",
    "        self.account_number = account_number \n",
    "        self.account_holder_name =account_holder_name\n",
    "        self.balance = balance        \n",
    "        \n",
    "    def deposit(self,amt):\n",
    "        \n",
    "        self.balance += amt\n",
    "        print(f'Rs. {amt} has been credited in your account.')\n",
    "        \n",
    "    def withdraw(self,amt):\n",
    "        \n",
    "        if amt > self.balance:\n",
    "            print('Sorry! Insufficient Balance.')\n",
    "        else:\n",
    "            self.balance -= amt\n",
    "            print(f'Here is your cash of Rs. {amt}')\n",
    "    \n",
    "    \n",
    "    def transfer(self,amt,acc):  \n",
    "        acc_exist = False \n",
    "        for a in BankAccount.lst_accounts:\n",
    "            if acc == a.account_number:\n",
    "                if self.account_number !=acc:                                        \n",
    "                    if self.balance >= amt:\n",
    "                        self.balance-=amt\n",
    "                        a.balance+=amt\n",
    "                        print(\"Transaction Successful!\")\n",
    "                        acc_exist=True\n",
    "                        break \n",
    "                    else:\n",
    "                        acc_exist=True\n",
    "                        print(\"Balance Insufficient\")\n",
    "                else:\n",
    "                    acc_exist =True\n",
    "                    print(\"Same accout transfer not allowed\")\n",
    "                    break\n",
    "            \n",
    "        if acc_exist==False:\n",
    "            print(\"Accoubt not foud\")"
   ]
  },
  {
   "cell_type": "code",
   "execution_count": 18,
   "id": "eff2a864",
   "metadata": {},
   "outputs": [],
   "source": [
    "a1 = BankAccount('1001','Oliver', 10000)\n",
    "BankAccount.lst_accounts.append(a1)"
   ]
  },
  {
   "cell_type": "code",
   "execution_count": 19,
   "id": "22ea36e9",
   "metadata": {},
   "outputs": [],
   "source": [
    "a2 = BankAccount('1002','james', 45000)\n",
    "BankAccount.lst_accounts.append(a2)"
   ]
  },
  {
   "cell_type": "code",
   "execution_count": 20,
   "id": "b4e2510e",
   "metadata": {},
   "outputs": [],
   "source": [
    "a3 = BankAccount('1003','jenny', 66000)\n",
    "BankAccount.lst_accounts.append(a3)"
   ]
  },
  {
   "cell_type": "code",
   "execution_count": 21,
   "id": "c22753e8",
   "metadata": {},
   "outputs": [
    {
     "name": "stdout",
     "output_type": "stream",
     "text": [
      "Balance Insufficient\n",
      "Balance Insufficient\n"
     ]
    }
   ],
   "source": [
    "a1.transfer(12000,'1002')"
   ]
  },
  {
   "cell_type": "code",
   "execution_count": 22,
   "id": "36be78df",
   "metadata": {},
   "outputs": [
    {
     "name": "stdout",
     "output_type": "stream",
     "text": [
      "Same accout transfer not allowed\n"
     ]
    }
   ],
   "source": [
    "a2.transfer(5000,'1002')"
   ]
  },
  {
   "cell_type": "code",
   "execution_count": 23,
   "id": "47b2e3a8",
   "metadata": {},
   "outputs": [
    {
     "name": "stdout",
     "output_type": "stream",
     "text": [
      "Same accout transfer not allowed\n"
     ]
    }
   ],
   "source": [
    "a2.transfer(5000,'1002')"
   ]
  },
  {
   "cell_type": "code",
   "execution_count": null,
   "id": "22266bc3",
   "metadata": {},
   "outputs": [],
   "source": []
  },
  {
   "cell_type": "code",
   "execution_count": null,
   "id": "6e9f5ef5",
   "metadata": {},
   "outputs": [],
   "source": []
  }
 ],
 "metadata": {
  "kernelspec": {
   "display_name": "Python 3 (ipykernel)",
   "language": "python",
   "name": "python3"
  },
  "language_info": {
   "codemirror_mode": {
    "name": "ipython",
    "version": 3
   },
   "file_extension": ".py",
   "mimetype": "text/x-python",
   "name": "python",
   "nbconvert_exporter": "python",
   "pygments_lexer": "ipython3",
   "version": "3.11.7"
  }
 },
 "nbformat": 4,
 "nbformat_minor": 5
}
